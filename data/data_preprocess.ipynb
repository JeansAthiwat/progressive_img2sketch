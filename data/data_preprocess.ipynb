{
 "cells": [
  {
   "cell_type": "code",
   "execution_count": null,
   "id": "9ac437a7",
   "metadata": {},
   "outputs": [],
   "source": [
    "import trimesh\n",
    "import pyrender\n",
    "import numpy as np"
   ]
  },
  {
   "cell_type": "code",
   "execution_count": null,
   "id": "63f2c223",
   "metadata": {},
   "outputs": [],
   "source": [
    "lod_3_mesh = trimesh.load_mesh(\"/home/jeans/win/aaaJAIST/resources/LOD_data_50/1/lod3.obj\")\n",
    "lod_2_mesh = trimesh.load_mesh(\"/home/jeans/win/aaaJAIST/resources/LOD_data_50/1/lod2.obj\")\n",
    "lod_1_mesh = trimesh.load_mesh(\"/home/jeans/win/aaaJAIST/resources/LOD_data_50/1/lod1.obj\")"
   ]
  },
  {
   "cell_type": "code",
   "execution_count": null,
   "id": "996e48db",
   "metadata": {},
   "outputs": [],
   "source": [
    "\n",
    "mesh = pyrender.Mesh.from_trimesh(lod_3_mesh)\n",
    "scene = pyrender.Scene()\n",
    "scene.add(mesh)\n",
    "pyrender.Viewer(scene, use_raymond_lighting=True)"
   ]
  },
  {
   "cell_type": "code",
   "execution_count": null,
   "id": "3bd6f4f4",
   "metadata": {},
   "outputs": [],
   "source": [
    "\n",
    "def center_mesh_origin_by_bbox(mesh):\n",
    "    \"\"\"\n",
    "    Center the mesh at the origin by translating it.\n",
    "    \n",
    "    Parameters:\n",
    "    mesh (trimesh.Trimesh): The mesh to center.\n",
    "    \n",
    "    Returns:\n",
    "    trimesh.Trimesh: The centered mesh.\n",
    "    \"\"\"\n",
    "    # get min/max of x,y,z\n",
    "    min_corner, max_corner = mesh.bounds  # each is (3,)\n",
    "    box_center = (min_corner + max_corner) * 0.5\n",
    "\n",
    "    # translate so bounding‐box center → origin\n",
    "    mesh.apply_translation(-box_center)\n",
    "    \n",
    "    return mesh\n",
    "\n",
    "def center_mesh_origin_by_centroid(mesh):\n",
    "    \"\"\"\n",
    "    Center the mesh at the origin by translating it to its centroid.\n",
    "    \n",
    "    Parameters:\n",
    "    mesh (trimesh.Trimesh): The mesh to center.\n",
    "    \n",
    "    Returns:\n",
    "    trimesh.Trimesh: The centered mesh.\n",
    "    \"\"\"\n",
    "    centroid = mesh.centroid\n",
    "    mesh.apply_translation(-centroid)\n",
    "    \n",
    "    return mesh\n",
    "\n",
    "#before centering\n",
    "scene = trimesh.Scene([lod_4_mesh, lod_3_mesh])\n",
    "scene.show()\n",
    "\n",
    "\n",
    "def register_and_transfrom(mesh, other):\n",
    "    \"\"\"\n",
    "    Register two meshes and display them in a scene.\n",
    "    \n",
    "    Parameters:\n",
    "    mesh (trimesh.Trimesh): The first mesh to register.\n",
    "    other (trimesh.Trimesh): The second mesh to register against the first.\n",
    "    \"\"\"\n",
    "    matrix, cost = trimesh.registration.mesh_other(\n",
    "        mesh,\n",
    "        other,\n",
    "        samples=3000,\n",
    "        scale=False,\n",
    "        icp_first=1,\n",
    "        icp_final=30\n",
    "    )\n",
    "    \n",
    "    print(f\"Alignment cost: {cost:.6f}\")\n",
    "    \n",
    "    mesh_copy = mesh.copy()\n",
    "    return mesh_copy.apply_transform(matrix)\n"
   ]
  },
  {
   "cell_type": "code",
   "execution_count": null,
   "id": "da94c232",
   "metadata": {},
   "outputs": [],
   "source": [
    "mesh_tran = register_and_transfrom(lod_4_mesh, lod_3_mesh)\n",
    "\n",
    "#show after registration\n",
    "scene = trimesh.Scene([mesh_tran, lod_3_mesh])"
   ]
  },
  {
   "cell_type": "code",
   "execution_count": null,
   "id": "cbb76490",
   "metadata": {},
   "outputs": [],
   "source": [
    "scene.show()"
   ]
  },
  {
   "cell_type": "code",
   "execution_count": null,
   "id": "28137c69",
   "metadata": {},
   "outputs": [],
   "source": [
    "lod_4_mesh_centered_bbox = center_mesh_origin_by_bbox(lod_4_mesh)\n",
    "lod_3_mesh_centered_bbox = center_mesh_origin_by_bbox(lod_3_mesh)\n",
    "\n",
    "mesh_tran = register_and_transfrom(lod_4_mesh_centered_bbox, lod_3_mesh_centered_bbox)\n",
    "\n",
    "#show after registration\n",
    "scene = trimesh.Scene([mesh_tran, lod_3_mesh_centered_bbox])\n",
    "scene.show()"
   ]
  },
  {
   "cell_type": "code",
   "execution_count": null,
   "id": "f60940e3",
   "metadata": {},
   "outputs": [],
   "source": [
    "\n",
    "lod_4_mesh_centered_centroid = center_mesh_origin_by_centroid(lod_4_mesh)\n",
    "lod_3_mesh_centered_centroid = center_mesh_origin_by_centroid(lod_3_mesh)\n",
    "\n",
    "\n",
    "mesh_tran = register_and_transfrom(lod_4_mesh_centered_centroid, lod_3_mesh_centered_centroid)\n",
    "#show after registration\n",
    "scene = trimesh.Scene([mesh_tran, lod_3_mesh_centered_centroid])\n",
    "scene.show()"
   ]
  },
  {
   "cell_type": "code",
   "execution_count": null,
   "id": "35401079",
   "metadata": {},
   "outputs": [],
   "source": []
  }
 ],
 "metadata": {
  "kernelspec": {
   "display_name": "3dline",
   "language": "python",
   "name": "python3"
  },
  "language_info": {
   "codemirror_mode": {
    "name": "ipython",
    "version": 3
   },
   "file_extension": ".py",
   "mimetype": "text/x-python",
   "name": "python",
   "nbconvert_exporter": "python",
   "pygments_lexer": "ipython3",
   "version": "3.10.18"
  }
 },
 "nbformat": 4,
 "nbformat_minor": 5
}
