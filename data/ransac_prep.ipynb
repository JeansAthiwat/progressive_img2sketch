{
 "cells": [
  {
   "cell_type": "code",
   "execution_count": null,
   "id": "7cfe7748",
   "metadata": {},
   "outputs": [
    {
     "name": "stdout",
     "output_type": "stream",
     "text": [
      "Jupyter environment detected. Enabling Open3D WebVisualizer.\n",
      "[Open3D INFO] WebRTC GUI backend enabled.\n",
      "[Open3D INFO] WebRTCWindowSystem: HTTP handshake server disabled.\n"
     ]
    }
   ],
   "source": [
    "import trimesh\n",
    "import numpy as np\n",
    "import open3d as o3d\n",
    "\n",
    "# ─── 1. Load your meshes ────────────────────────────────────────────────────────\n",
    "lod_4_mesh = trimesh.load_mesh(\"/home/jeans/win/aaaJAIST/resources/LOD_data_50/1/lod4.obj\")\n",
    "lod_3_mesh = trimesh.load_mesh(\"/home/jeans/win/aaaJAIST/resources/LOD_data_50/1/lod3.obj\")\n",
    "\n",
    "# ─── 2. Sample points on the surfaces ──────────────────────────────────────────\n",
    "#    (so we can run correspondence-based methods on point-clouds)\n",
    "num_samples = 20000\n",
    "pts_ref, _ = trimesh.sample.sample_surface(lod_4_mesh, num_samples)\n",
    "pts_src, _ = trimesh.sample.sample_surface(lod_3_mesh, num_samples)\n",
    "\n",
    "# ─── 3. Build Open3D point clouds & estimate normals ───────────────────────────\n",
    "pcd_ref = o3d.geometry.PointCloud(o3d.utility.Vector3dVector(pts_ref))\n",
    "pcd_ref.estimate_normals(o3d.geometry.KDTreeSearchParamHybrid(radius=0.05, max_nn=30))\n",
    "\n",
    "pcd_src = o3d.geometry.PointCloud(o3d.utility.Vector3dVector(pts_src))\n",
    "pcd_src.estimate_normals(o3d.geometry.KDTreeSearchParamHybrid(radius=0.05, max_nn=30))\n",
    "\n",
    "# ─── 4. Compute FPFH features ───────────────────────────────────────────────────\n",
    "radius_feature = 0.1\n",
    "fpfh_ref = o3d.pipelines.registration.compute_fpfh_feature(\n",
    "    pcd_ref,\n",
    "    o3d.geometry.KDTreeSearchParamHybrid(radius=radius_feature, max_nn=100)\n",
    ")\n",
    "fpfh_src = o3d.pipelines.registration.compute_fpfh_feature(\n",
    "    pcd_src,\n",
    "    o3d.geometry.KDTreeSearchParamHybrid(radius=radius_feature, max_nn=100)\n",
    ")\n",
    "\n",
    "# ─── 5. Coarse alignment via RANSAC + FPFH ─────────────────────────────────────\n",
    "distance_threshold = 0.2  # adjust based on your model’s scale\n",
    "result_ransac = o3d.pipelines.registration.registration_ransac_based_on_feature_matching(\n",
    "    pcd_src, pcd_ref,\n",
    "    fpfh_src, fpfh_ref,\n",
    "    mutual_filter=True,\n",
    "    max_correspondence_distance=distance_threshold,\n",
    "    estimation_method=o3d.pipelines.registration.TransformationEstimationPointToPoint(False),\n",
    "    ransac_n=4,\n",
    "    criteria=o3d.pipelines.registration.RANSACConvergenceCriteria(4_000_000, 500)\n",
    ")\n",
    "print(\"RANSAC result:\")\n",
    "print(result_ransac)\n",
    "\n",
    "# ─── 6. Fine‐tune with Point‐to‐Plane ICP ───────────────────────────────────────\n",
    "icp_threshold = 0.05\n",
    "result_icp = o3d.pipelines.registration.registration_icp(\n",
    "    pcd_src, pcd_ref,\n",
    "    icp_threshold,\n",
    "    init=result_ransac.transformation,\n",
    "    estimation_method=o3d.pipelines.registration.TransformationEstimationPointToPlane()\n",
    ")\n",
    "print(\"ICP refinement:\")\n",
    "print(result_icp)\n",
    "\n",
    "# ─── 7. Apply the final 4×4 transform to your trimesh LOD-3 mesh ───────────────\n",
    "lod_3_mesh.apply_transform(result_icp.transformation)\n",
    "\n",
    "# ─── 8. (Optional) Tint them differently for clarity ───────────────────────────\n",
    "lod_4_mesh.visual.face_colors = [200, 200, 250, 200]  # bluish, semi‐opaque\n",
    "lod_3_mesh.visual.face_colors = [250, 200, 200, 150]  # reddish, more transparent\n",
    "\n",
    "# ─── 9. Visualize both in one scene ────────────────────────────────────────────\n",
    "scene = trimesh.Scene([lod_4_mesh, lod_3_mesh])\n",
    "scene.show()\n"
   ]
  },
  {
   "cell_type": "code",
   "execution_count": null,
   "id": "e9528a24",
   "metadata": {},
   "outputs": [],
   "source": []
  }
 ],
 "metadata": {
  "kernelspec": {
   "display_name": "3dline",
   "language": "python",
   "name": "python3"
  },
  "language_info": {
   "codemirror_mode": {
    "name": "ipython",
    "version": 3
   },
   "file_extension": ".py",
   "mimetype": "text/x-python",
   "name": "python",
   "nbconvert_exporter": "python",
   "pygments_lexer": "ipython3",
   "version": "undefined.undefined.undefined"
  }
 },
 "nbformat": 4,
 "nbformat_minor": 5
}
