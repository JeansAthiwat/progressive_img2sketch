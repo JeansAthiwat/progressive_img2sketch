{
 "cells": [
  {
   "cell_type": "markdown",
   "id": "d573011b",
   "metadata": {},
   "source": [
    "# This notebook does the whole pipeline starting from the raw dataset"
   ]
  },
  {
   "cell_type": "markdown",
   "id": "11b7ffdd",
   "metadata": {},
   "source": [
    "### Import Libraries"
   ]
  },
  {
   "cell_type": "code",
   "execution_count": null,
   "id": "c436d3f3",
   "metadata": {},
   "outputs": [],
   "source": [
    "import os\n",
    "import numpy as np\n",
    "import trimesh\n",
    "import pyrender\n",
    "import matplotlib.pyplot as plt\n",
    "from dataset_processing.fix_normal import traverse_and_fix\n"
   ]
  },
  {
   "cell_type": "markdown",
   "id": "d5f07353",
   "metadata": {},
   "source": [
    "### 1. Correcting the UV Paths for the LOD dataset\n",
    "\n",
    "just need to run this once"
   ]
  },
  {
   "cell_type": "code",
   "execution_count": 2,
   "id": "f3270772",
   "metadata": {},
   "outputs": [],
   "source": [
    "RAW_LOD_DATASET_ROOT = \"/home/athiwat/progressive_img2sketch/resources/LOD_for_icp\"\n",
    "\n",
    "traverse_and_fix(RAW_LOD_DATASET_ROOT, normalize=False)"
   ]
  },
  {
   "cell_type": "markdown",
   "id": "7d1fcb28",
   "metadata": {},
   "source": [
    "### 2. Correcting the UV Paths for the LOD dataset"
   ]
  },
  {
   "cell_type": "code",
   "execution_count": null,
   "id": "863a0da9",
   "metadata": {},
   "outputs": [],
   "source": []
  }
 ],
 "metadata": {
  "kernelspec": {
   "display_name": "athiwat_controlnet",
   "language": "python",
   "name": "python3"
  },
  "language_info": {
   "codemirror_mode": {
    "name": "ipython",
    "version": 3
   },
   "file_extension": ".py",
   "mimetype": "text/x-python",
   "name": "python",
   "nbconvert_exporter": "python",
   "pygments_lexer": "ipython3",
   "version": "3.10.18"
  }
 },
 "nbformat": 4,
 "nbformat_minor": 5
}
