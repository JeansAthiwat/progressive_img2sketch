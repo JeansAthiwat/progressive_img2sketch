{
  "cells": [
    {
      "cell_type": "code",
      "execution_count": null,
      "metadata": {
        "collapsed": false
      },
      "outputs": [],
      "source": [
        "%matplotlib inline"
      ]
    },
    {
      "cell_type": "markdown",
      "metadata": {},
      "source": [
        "Silhouette Highlight {#silhouette_example}\n",
        "====================\n",
        "\n",
        "Extract a subset of the edges of a polygonal mesh to generate an outline\n",
        "(silhouette) of a mesh.\n"
      ]
    },
    {
      "cell_type": "code",
      "execution_count": null,
      "metadata": {
        "collapsed": false
      },
      "outputs": [],
      "source": [
        "from __future__ import annotations\n",
        "\n",
        "import pyvista\n",
        "from pyvista import examples"
      ]
    },
    {
      "cell_type": "markdown",
      "metadata": {},
      "source": [
        "Prepare a triangulated `PolyData`\n"
      ]
    },
    {
      "cell_type": "code",
      "execution_count": null,
      "metadata": {
        "collapsed": false
      },
      "outputs": [],
      "source": [
        "bunny = examples.download_bunny()"
      ]
    },
    {
      "cell_type": "markdown",
      "metadata": {},
      "source": [
        "Now we can display the silhouette of the mesh and compare the result:\n"
      ]
    },
    {
      "cell_type": "code",
      "execution_count": null,
      "metadata": {
        "collapsed": false
      },
      "outputs": [],
      "source": [
        "plotter = pyvista.Plotter(shape=(1, 2))\n",
        "plotter.subplot(0, 0)\n",
        "plotter.add_mesh(bunny, color='lightblue', silhouette=True)\n",
        "plotter.add_text('Silhouette')\n",
        "plotter.view_xy()\n",
        "plotter.subplot(0, 1)\n",
        "plotter.add_mesh(bunny, color='lightblue')\n",
        "plotter.add_text('No silhouette')\n",
        "plotter.view_xy()\n",
        "plotter.show()"
      ]
    },
    {
      "cell_type": "markdown",
      "metadata": {},
      "source": [
        "Maybe the default parameters are not enough to really notice the\n",
        "silhouette. But by using a `dict`, it is possible to modify the\n",
        "properties of the outline. For example, color and width could be\n",
        "specified like so:\n"
      ]
    },
    {
      "cell_type": "code",
      "execution_count": null,
      "metadata": {
        "collapsed": false
      },
      "outputs": [],
      "source": [
        "plotter = pyvista.Plotter()\n",
        "silhouette = dict(\n",
        "    color='red',\n",
        "    line_width=8.0,\n",
        ")\n",
        "plotter.add_mesh(bunny, silhouette=silhouette)\n",
        "plotter.view_xy()\n",
        "plotter.show()"
      ]
    },
    {
      "cell_type": "markdown",
      "metadata": {},
      "source": [
        "By default, PyVista uses a pretty aggressive decimation level but we\n",
        "might want to disable it. It is also possible to display sharp edges:\n"
      ]
    },
    {
      "cell_type": "code",
      "execution_count": null,
      "metadata": {
        "collapsed": false
      },
      "outputs": [],
      "source": [
        "cylinder = pyvista.Cylinder(\n",
        "    center=(0, 0.04, 0),\n",
        "    direction=(0, 1, 0),\n",
        "    radius=0.15,\n",
        "    height=0.03,\n",
        ").triangulate()\n",
        "\n",
        "plotter = pyvista.Plotter(shape=(1, 3))\n",
        "plotter.subplot(0, 0)\n",
        "plotter.add_mesh(\n",
        "    cylinder,\n",
        "    color='lightblue',\n",
        "    smooth_shading=True,\n",
        "    silhouette=dict(color='red', line_width=8.0, decimate=None, feature_angle=True),\n",
        ")\n",
        "plotter.add_text('Silhouette with sharp edges')\n",
        "plotter.view_isometric()\n",
        "plotter.subplot(0, 1)\n",
        "plotter.add_mesh(\n",
        "    cylinder,\n",
        "    color='lightblue',\n",
        "    smooth_shading=True,\n",
        "    silhouette=dict(color='red', line_width=8.0, decimate=None),\n",
        ")\n",
        "plotter.add_text('Silhouette without sharp edges')\n",
        "plotter.view_isometric()\n",
        "plotter.subplot(0, 2)\n",
        "plotter.add_mesh(cylinder, color='lightblue', smooth_shading=True)\n",
        "plotter.add_text('No silhouette')\n",
        "plotter.view_isometric()\n",
        "plotter.show()"
      ]
    },
    {
      "cell_type": "markdown",
      "metadata": {},
      "source": [
        "Here is another example:\n"
      ]
    },
    {
      "cell_type": "code",
      "execution_count": null,
      "metadata": {
        "collapsed": false
      },
      "outputs": [],
      "source": [
        "dragon = examples.download_dragon()\n",
        "plotter = pyvista.Plotter()\n",
        "plotter.set_background('black', 'blue')\n",
        "plotter.add_mesh(\n",
        "    dragon,\n",
        "    color='green',\n",
        "    specular=1,\n",
        "    smooth_shading=True,\n",
        "    silhouette=dict(line_width=8, color='white'),\n",
        ")\n",
        "\n",
        "plotter.add_mesh(\n",
        "    cylinder,\n",
        "    color='lightblue',\n",
        "    smooth_shading=True,\n",
        "    silhouette=dict(decimate=None, feature_angle=True, line_width=8, color='white'),\n",
        ")\n",
        "plotter.camera_position = [\n",
        "    (-0.2936731887752889, 0.2389060430625446, 0.35138839367034236),\n",
        "    (-0.005878899246454239, 0.12495124898850918, -0.004603400826454163),\n",
        "    (0.34348225747312017, 0.8567703221182346, -0.38466160965007384),\n",
        "]\n",
        "plotter.show()"
      ]
    },
    {
      "cell_type": "markdown",
      "metadata": {},
      "source": [
        "::: {.tags}\n",
        "plot\n",
        ":::\n"
      ]
    }
  ],
  "metadata": {
    "kernelspec": {
      "display_name": "3dline",
      "language": "python",
      "name": "python3"
    },
    "language_info": {
      "codemirror_mode": {
        "name": "ipython",
        "version": 3
      },
      "file_extension": ".py",
      "mimetype": "text/x-python",
      "name": "python",
      "nbconvert_exporter": "python",
      "pygments_lexer": "ipython3",
      "version": "3.10.18"
    }
  },
  "nbformat": 4,
  "nbformat_minor": 0
}
