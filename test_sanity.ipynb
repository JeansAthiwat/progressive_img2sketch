{
 "cells": [
  {
   "cell_type": "markdown",
   "id": "d610daab",
   "metadata": {},
   "source": [
    "# check if freestyle output will be white bg or not after remove alpha channel"
   ]
  },
  {
   "cell_type": "code",
   "execution_count": 2,
   "id": "fafdf198",
   "metadata": {},
   "outputs": [
    {
     "name": "stdout",
     "output_type": "stream",
     "text": [
      "Image shape: (512, 512, 4) Image dtype: uint8\n",
      "Blended image shape: (512, 512, 3) Blended image dtype: uint8\n",
      "Image average color: [253.35277176 253.35277176 253.35277176]\n",
      "Converted image saved to /home/athiwat/progressive_img2sketch/test/test_sanity.png\n"
     ]
    }
   ],
   "source": [
    "import os\n",
    "import cv2\n",
    "import numpy as np\n",
    "\n",
    "input_image = \"/home/athiwat/progressive_img2sketch/resources/LOD_orbit_freestyles_tmp/39/lod3/lod3_az000_el00.png\"\n",
    "output_image = \"/home/athiwat/progressive_img2sketch/test/test_sanity.png\"\n",
    "\n",
    "# Load image with alpha\n",
    "image_rgba = cv2.imread(input_image, cv2.IMREAD_UNCHANGED)\n",
    "print(f\"Image shape: {image_rgba.shape}\", \"Image dtype:\", image_rgba.dtype)\n",
    "\n",
    "cv2.imwrite(\"/home/athiwat/progressive_img2sketch/test/before.png\", image_rgba)\n",
    "\n",
    "# Check input has 4 channels\n",
    "if image_rgba is None or image_rgba.shape[2] != 4:\n",
    "    raise ValueError(\"Input image must be RGBA with 4 channels\")\n",
    "\n",
    "# Separate RGBA\n",
    "rgb = image_rgba[:, :, :3].astype(np.float32)\n",
    "alpha = image_rgba[:, :, 3].astype(np.float32) / 255.0  # Normalize to [0,1]\n",
    "\n",
    "# Define background gray value (0 = black, 255 = white, e.g. 200 = light gray)\n",
    "bg_gray_value = 255\n",
    "bg_gray = np.ones_like(rgb) * bg_gray_value\n",
    "\n",
    "# Alpha blending: result = rgb * alpha + gray * (1 - alpha)\n",
    "blended_rgb = (rgb * alpha[..., None] + bg_gray * (1 - alpha[..., None])).astype(np.uint8)\n",
    "\n",
    "# Optionally print stats\n",
    "print(f\"Blended image shape: {blended_rgb.shape}\", \"Blended image dtype:\", blended_rgb.dtype)\n",
    "print(\"Image average color:\", np.mean(blended_rgb, axis=(0, 1)))\n",
    "\n",
    "# Save the final result\n",
    "cv2.imwrite(output_image, blended_rgb)\n",
    "print(f\"Converted image saved to {output_image}\")\n"
   ]
  },
  {
   "cell_type": "code",
   "execution_count": null,
   "id": "83d1a712",
   "metadata": {},
   "outputs": [],
   "source": []
  }
 ],
 "metadata": {
  "kernelspec": {
   "display_name": "Python 3",
   "language": "python",
   "name": "python3"
  },
  "language_info": {
   "codemirror_mode": {
    "name": "ipython",
    "version": 3
   },
   "file_extension": ".py",
   "mimetype": "text/x-python",
   "name": "python",
   "nbconvert_exporter": "python",
   "pygments_lexer": "ipython3",
   "version": "3.8.5"
  }
 },
 "nbformat": 4,
 "nbformat_minor": 5
}
