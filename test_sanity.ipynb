{
 "cells": [
  {
   "cell_type": "markdown",
   "id": "d610daab",
   "metadata": {},
   "source": [
    "# check if freestyle output will be white bg or not after remove alpha channel"
   ]
  },
  {
   "cell_type": "code",
   "execution_count": null,
   "id": "5da028a9",
   "metadata": {},
   "outputs": [],
   "source": [
    "\n",
    "import os\n",
    "os.environ[\"PYOPENGL_PLATFORM\"] = \"osmesa\"\n",
    "\n",
    "import pyrender\n",
    "import trimesh\n",
    "import numpy as np\n",
    "from PIL import Image\n",
    "import os\n",
    "\n",
    "\n",
    "import trimesh\n",
    "import pyrender\n",
    "import numpy as np\n",
    "from PIL import Image\n",
    "\n",
    "scene_t = trimesh.load(\"/home/athiwat/progressive_img2sketch/resources/LOD_for_icp/1/lod2.obj\")  # may return Trimesh or Scene\n",
    "\n",
    "pr_scene = None\n",
    "if isinstance(scene_t, trimesh.Scene):\n",
    "    pr_scene = pyrender.Scene.from_trimesh_scene(scene_t)\n",
    "else:\n",
    "    mesh = pyrender.Mesh.from_trimesh(scene_t)\n",
    "    pr_scene = pyrender.Scene()\n",
    "    pr_scene.add(mesh)\n",
    "\n",
    "# Add camera\n",
    "camera = pyrender.PerspectiveCamera(yfov=np.pi / 3.0, aspectRatio=640/480)\n",
    "cam_pose = np.array([\n",
    "    [1, 0, 0, 0],\n",
    "    [0, 1, 0, -1],\n",
    "    [0, 0, 1, 2.5],\n",
    "    [0, 0, 0, 1],\n",
    "])\n",
    "pr_scene.add(camera, pose=cam_pose)\n",
    "\n",
    "# Add light\n",
    "light = pyrender.SpotLight(color=np.ones(3), intensity=3.0)\n",
    "pr_scene.add(light, pose=cam_pose)\n",
    "\n",
    "r = pyrender.OffscreenRenderer(640, 480)\n",
    "color, depth = r.render(pr_scene)\n",
    "Image.fromarray(color.astype(np.uint8)).save(\"offscreen_render.png\")\n",
    "r.delete()\n"
   ]
  },
  {
   "cell_type": "code",
   "execution_count": null,
   "id": "fafdf198",
   "metadata": {},
   "outputs": [],
   "source": [
    "import os\n",
    "import cv2\n",
    "import numpy as np\n",
    "\n",
    "input_image = \"/home/athiwat/progressive_img2sketch/resources/LOD_orbit_freestyles_tmp/39/lod3/lod3_az000_el00.png\"\n",
    "output_image = \"/home/athiwat/progressive_img2sketch/test/test_sanity.png\"\n",
    "\n",
    "# Load image with alpha\n",
    "image_rgba = cv2.imread(input_image, cv2.IMREAD_UNCHANGED)\n",
    "print(f\"Image shape: {image_rgba.shape}\", \"Image dtype:\", image_rgba.dtype)\n",
    "\n",
    "cv2.imwrite(\"/home/athiwat/progressive_img2sketch/test/before.png\", image_rgba)\n",
    "\n",
    "# Check input has 4 channels\n",
    "if image_rgba is None or image_rgba.shape[2] != 4:\n",
    "    raise ValueError(\"Input image must be RGBA with 4 channels\")\n",
    "\n",
    "# Separate RGBA\n",
    "rgb = image_rgba[:, :, :3].astype(np.float32)\n",
    "alpha = image_rgba[:, :, 3].astype(np.float32) / 255.0  # Normalize to [0,1]\n",
    "\n",
    "# Define background gray value (0 = black, 255 = white, e.g. 200 = light gray)\n",
    "bg_gray_value = 255\n",
    "bg_gray = np.ones_like(rgb) * bg_gray_value\n",
    "\n",
    "# Alpha blending: result = rgb * alpha + gray * (1 - alpha)\n",
    "blended_rgb = (rgb * alpha[..., None] + bg_gray * (1 - alpha[..., None])).astype(np.uint8)\n",
    "\n",
    "# Optionally print stats\n",
    "print(f\"Blended image shape: {blended_rgb.shape}\", \"Blended image dtype:\", blended_rgb.dtype)\n",
    "print(\"Image average color:\", np.mean(blended_rgb, axis=(0, 1)))\n",
    "\n",
    "# Save the final result\n",
    "cv2.imwrite(output_image, blended_rgb)\n",
    "print(f\"Converted image saved to {output_image}\")\n"
   ]
  },
  {
   "cell_type": "code",
   "execution_count": null,
   "id": "83d1a712",
   "metadata": {},
   "outputs": [],
   "source": []
  }
 ],
 "metadata": {
  "kernelspec": {
   "display_name": "athiwat_controlnet",
   "language": "python",
   "name": "python3"
  },
  "language_info": {
   "codemirror_mode": {
    "name": "ipython",
    "version": 3
   },
   "file_extension": ".py",
   "mimetype": "text/x-python",
   "name": "python",
   "nbconvert_exporter": "python",
   "pygments_lexer": "ipython3",
   "version": "3.10.18"
  }
 },
 "nbformat": 4,
 "nbformat_minor": 5
}
